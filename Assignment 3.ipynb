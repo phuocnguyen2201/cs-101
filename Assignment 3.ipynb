{
 "cells": [
  {
   "cell_type": "markdown",
   "id": "45c36896",
   "metadata": {},
   "source": [
    "#  Name: Nguyen Thien Phuoc\n",
    "\n",
    "# Date: 21/02/2023"
   ]
  },
  {
   "cell_type": "markdown",
   "id": "13baa64f",
   "metadata": {},
   "source": [
    "# Excersice 1"
   ]
  },
  {
   "cell_type": "code",
   "execution_count": 1,
   "id": "1dfa58dc",
   "metadata": {},
   "outputs": [
    {
     "name": "stdout",
     "output_type": "stream",
     "text": [
      "Output: 30\n"
     ]
    }
   ],
   "source": [
    "expression = lambda numb1,numb2: print(\"Output:\", numb1 * numb2)\n",
    "\n",
    "expression(5,6)"
   ]
  },
  {
   "cell_type": "markdown",
   "id": "f72ea7be",
   "metadata": {},
   "source": [
    "# Excersice 2"
   ]
  },
  {
   "cell_type": "code",
   "execution_count": 2,
   "id": "40dc08aa",
   "metadata": {},
   "outputs": [
    {
     "name": "stdout",
     "output_type": "stream",
     "text": [
      "Output: 15\n"
     ]
    }
   ],
   "source": [
    "def calculator(numb1, numb2, operator):\n",
    "    if operator == \"a\":\n",
    "        print(\"Output:\",numb1 + numb2)\n",
    "    elif operator == \"s\":\n",
    "        print(\"Output:\",numb1 - numb2)\n",
    "    elif operator == \"m\":\n",
    "        print(\"Output:\",numb1 * numb2)\n",
    "    else:\n",
    "        print(\"Output:\",numb1 / numb2)\n",
    "        \n",
    "calculator(3,5,'m')"
   ]
  },
  {
   "cell_type": "markdown",
   "id": "1ee01ba4",
   "metadata": {},
   "source": [
    "# Excersice 3"
   ]
  },
  {
   "cell_type": "code",
   "execution_count": 3,
   "id": "0c519a96",
   "metadata": {},
   "outputs": [
    {
     "name": "stdout",
     "output_type": "stream",
     "text": [
      "Output: 314.1592653589793\n"
     ]
    }
   ],
   "source": [
    "from math import pi\n",
    "def areasCircle(radius):\n",
    "    print(\"Output:\",pi * radius**2)\n",
    "    \n",
    "areasCircle(10)"
   ]
  },
  {
   "cell_type": "markdown",
   "id": "587d42ec",
   "metadata": {},
   "source": [
    "# Excersice 4"
   ]
  },
  {
   "cell_type": "code",
   "execution_count": 4,
   "id": "cc6f233f",
   "metadata": {},
   "outputs": [
    {
     "name": "stdout",
     "output_type": "stream",
     "text": [
      "Output: 20\n"
     ]
    }
   ],
   "source": [
    "class Rectangle:\n",
    "    def __init__(self, length, width):\n",
    "        self.length = length\n",
    "        self.width = width\n",
    "        \n",
    "    def area(self):\n",
    "        print(\"Output:\", self.length* self.width)\n",
    "        \n",
    "\n",
    "r = Rectangle(10, 2)\n",
    "r.area()"
   ]
  },
  {
   "cell_type": "markdown",
   "id": "9db366cd",
   "metadata": {},
   "source": [
    "# Excersice 5"
   ]
  },
  {
   "cell_type": "code",
   "execution_count": 5,
   "id": "2bcdcc03",
   "metadata": {},
   "outputs": [
    {
     "name": "stdout",
     "output_type": "stream",
     "text": [
      "The area is: \n",
      " 25\n",
      "This is a: Square\n"
     ]
    }
   ],
   "source": [
    "class Shape():            \n",
    "    def area(self):\n",
    "            return(\"The area is: 0\")\n",
    "        \n",
    "class Square(Shape):\n",
    "    def __init__(self, length, desc):\n",
    "        self.length = length\n",
    "        self.desc = desc\n",
    "\n",
    "    def area(self):\n",
    "        return(\"The area is: \\n \"+ str(self.length**2))\n",
    "\n",
    "    def describe(self):\n",
    "        return(\"This is a: \"+ self.desc)\n",
    "\n",
    "            \n",
    "test = Square(5,\"Square\");\n",
    "print(test.area())\n",
    "print(test.describe())"
   ]
  }
 ],
 "metadata": {
  "kernelspec": {
   "display_name": "Python 3 (ipykernel)",
   "language": "python",
   "name": "python3"
  },
  "language_info": {
   "codemirror_mode": {
    "name": "ipython",
    "version": 3
   },
   "file_extension": ".py",
   "mimetype": "text/x-python",
   "name": "python",
   "nbconvert_exporter": "python",
   "pygments_lexer": "ipython3",
   "version": "3.10.9"
  }
 },
 "nbformat": 4,
 "nbformat_minor": 5
}
